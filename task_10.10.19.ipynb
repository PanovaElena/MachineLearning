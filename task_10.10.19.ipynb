{
 "cells": [
  {
   "cell_type": "code",
   "execution_count": 61,
   "metadata": {},
   "outputs": [],
   "source": [
    "import numpy as np\n",
    "import matplotlib.pyplot as plt\n",
    "import pandas as pd\n",
    "import matplotlib"
   ]
  },
  {
   "cell_type": "markdown",
   "metadata": {},
   "source": [
    "Набор данных - список пассажиров Титаника. Признаки: \n",
    "- пол\n",
    "- возраст\n",
    "- класс (upper, middle, lower)\n",
    "- стоимость проезда\n",
    "- число членов семьи на борту\n",
    "- женат/не женат/замужем/не замужем\n",
    "- порт, в котором была осуществлена посадка.\n",
    "\n",
    "Пытаемся определить, выжил ли человек или нет (задача классификации)."
   ]
  },
  {
   "cell_type": "markdown",
   "metadata": {},
   "source": [
    "Считываем тренировочные и тестовые данные."
   ]
  },
  {
   "cell_type": "code",
   "execution_count": 62,
   "metadata": {},
   "outputs": [],
   "source": [
    "data_train = pd.read_csv('./titanic/train_data.csv', sep = ',', engine = 'python')\n",
    "data_test = pd.read_csv('./titanic/test_data.csv', sep = ',', engine = 'python')"
   ]
  },
  {
   "cell_type": "code",
   "execution_count": 63,
   "metadata": {},
   "outputs": [
    {
     "data": {
      "text/html": [
       "<div>\n",
       "<style scoped>\n",
       "    .dataframe tbody tr th:only-of-type {\n",
       "        vertical-align: middle;\n",
       "    }\n",
       "\n",
       "    .dataframe tbody tr th {\n",
       "        vertical-align: top;\n",
       "    }\n",
       "\n",
       "    .dataframe thead th {\n",
       "        text-align: right;\n",
       "    }\n",
       "</style>\n",
       "<table border=\"1\" class=\"dataframe\">\n",
       "  <thead>\n",
       "    <tr style=\"text-align: right;\">\n",
       "      <th></th>\n",
       "      <th></th>\n",
       "      <th>PassengerId</th>\n",
       "      <th>Survived</th>\n",
       "      <th>Sex</th>\n",
       "      <th>Age</th>\n",
       "      <th>Fare</th>\n",
       "      <th>Pclass_1</th>\n",
       "      <th>Pclass_2</th>\n",
       "      <th>Pclass_3</th>\n",
       "      <th>Family_size</th>\n",
       "      <th>Title_1</th>\n",
       "      <th>Title_2</th>\n",
       "      <th>Title_3</th>\n",
       "      <th>Title_4</th>\n",
       "      <th>Emb_1</th>\n",
       "      <th>Emb_2</th>\n",
       "      <th>Emb_3</th>\n",
       "    </tr>\n",
       "  </thead>\n",
       "  <tbody>\n",
       "    <tr>\n",
       "      <td>0</td>\n",
       "      <td>0</td>\n",
       "      <td>1</td>\n",
       "      <td>0</td>\n",
       "      <td>1</td>\n",
       "      <td>0.2750</td>\n",
       "      <td>0.014151</td>\n",
       "      <td>0</td>\n",
       "      <td>0</td>\n",
       "      <td>1</td>\n",
       "      <td>0.1</td>\n",
       "      <td>1</td>\n",
       "      <td>0</td>\n",
       "      <td>0</td>\n",
       "      <td>0</td>\n",
       "      <td>0</td>\n",
       "      <td>0</td>\n",
       "      <td>1</td>\n",
       "    </tr>\n",
       "    <tr>\n",
       "      <td>1</td>\n",
       "      <td>1</td>\n",
       "      <td>2</td>\n",
       "      <td>1</td>\n",
       "      <td>0</td>\n",
       "      <td>0.4750</td>\n",
       "      <td>0.139136</td>\n",
       "      <td>1</td>\n",
       "      <td>0</td>\n",
       "      <td>0</td>\n",
       "      <td>0.1</td>\n",
       "      <td>1</td>\n",
       "      <td>0</td>\n",
       "      <td>0</td>\n",
       "      <td>0</td>\n",
       "      <td>1</td>\n",
       "      <td>0</td>\n",
       "      <td>0</td>\n",
       "    </tr>\n",
       "    <tr>\n",
       "      <td>2</td>\n",
       "      <td>2</td>\n",
       "      <td>3</td>\n",
       "      <td>1</td>\n",
       "      <td>0</td>\n",
       "      <td>0.3250</td>\n",
       "      <td>0.015469</td>\n",
       "      <td>0</td>\n",
       "      <td>0</td>\n",
       "      <td>1</td>\n",
       "      <td>0.0</td>\n",
       "      <td>0</td>\n",
       "      <td>0</td>\n",
       "      <td>0</td>\n",
       "      <td>1</td>\n",
       "      <td>0</td>\n",
       "      <td>0</td>\n",
       "      <td>1</td>\n",
       "    </tr>\n",
       "    <tr>\n",
       "      <td>3</td>\n",
       "      <td>3</td>\n",
       "      <td>4</td>\n",
       "      <td>1</td>\n",
       "      <td>0</td>\n",
       "      <td>0.4375</td>\n",
       "      <td>0.103644</td>\n",
       "      <td>1</td>\n",
       "      <td>0</td>\n",
       "      <td>0</td>\n",
       "      <td>0.1</td>\n",
       "      <td>1</td>\n",
       "      <td>0</td>\n",
       "      <td>0</td>\n",
       "      <td>0</td>\n",
       "      <td>0</td>\n",
       "      <td>0</td>\n",
       "      <td>1</td>\n",
       "    </tr>\n",
       "    <tr>\n",
       "      <td>4</td>\n",
       "      <td>4</td>\n",
       "      <td>5</td>\n",
       "      <td>0</td>\n",
       "      <td>1</td>\n",
       "      <td>0.4375</td>\n",
       "      <td>0.015713</td>\n",
       "      <td>0</td>\n",
       "      <td>0</td>\n",
       "      <td>1</td>\n",
       "      <td>0.0</td>\n",
       "      <td>1</td>\n",
       "      <td>0</td>\n",
       "      <td>0</td>\n",
       "      <td>0</td>\n",
       "      <td>0</td>\n",
       "      <td>0</td>\n",
       "      <td>1</td>\n",
       "    </tr>\n",
       "    <tr>\n",
       "      <td>...</td>\n",
       "      <td>...</td>\n",
       "      <td>...</td>\n",
       "      <td>...</td>\n",
       "      <td>...</td>\n",
       "      <td>...</td>\n",
       "      <td>...</td>\n",
       "      <td>...</td>\n",
       "      <td>...</td>\n",
       "      <td>...</td>\n",
       "      <td>...</td>\n",
       "      <td>...</td>\n",
       "      <td>...</td>\n",
       "      <td>...</td>\n",
       "      <td>...</td>\n",
       "      <td>...</td>\n",
       "      <td>...</td>\n",
       "      <td>...</td>\n",
       "    </tr>\n",
       "    <tr>\n",
       "      <td>787</td>\n",
       "      <td>787</td>\n",
       "      <td>788</td>\n",
       "      <td>0</td>\n",
       "      <td>1</td>\n",
       "      <td>0.1000</td>\n",
       "      <td>0.056848</td>\n",
       "      <td>0</td>\n",
       "      <td>0</td>\n",
       "      <td>1</td>\n",
       "      <td>0.5</td>\n",
       "      <td>0</td>\n",
       "      <td>0</td>\n",
       "      <td>1</td>\n",
       "      <td>0</td>\n",
       "      <td>0</td>\n",
       "      <td>1</td>\n",
       "      <td>0</td>\n",
       "    </tr>\n",
       "    <tr>\n",
       "      <td>788</td>\n",
       "      <td>788</td>\n",
       "      <td>789</td>\n",
       "      <td>1</td>\n",
       "      <td>1</td>\n",
       "      <td>0.0125</td>\n",
       "      <td>0.040160</td>\n",
       "      <td>0</td>\n",
       "      <td>0</td>\n",
       "      <td>1</td>\n",
       "      <td>0.3</td>\n",
       "      <td>0</td>\n",
       "      <td>0</td>\n",
       "      <td>1</td>\n",
       "      <td>0</td>\n",
       "      <td>0</td>\n",
       "      <td>0</td>\n",
       "      <td>1</td>\n",
       "    </tr>\n",
       "    <tr>\n",
       "      <td>789</td>\n",
       "      <td>789</td>\n",
       "      <td>790</td>\n",
       "      <td>0</td>\n",
       "      <td>1</td>\n",
       "      <td>0.5750</td>\n",
       "      <td>0.154588</td>\n",
       "      <td>1</td>\n",
       "      <td>0</td>\n",
       "      <td>0</td>\n",
       "      <td>0.0</td>\n",
       "      <td>1</td>\n",
       "      <td>0</td>\n",
       "      <td>0</td>\n",
       "      <td>0</td>\n",
       "      <td>1</td>\n",
       "      <td>0</td>\n",
       "      <td>0</td>\n",
       "    </tr>\n",
       "    <tr>\n",
       "      <td>790</td>\n",
       "      <td>790</td>\n",
       "      <td>791</td>\n",
       "      <td>0</td>\n",
       "      <td>1</td>\n",
       "      <td>0.3500</td>\n",
       "      <td>0.015127</td>\n",
       "      <td>0</td>\n",
       "      <td>0</td>\n",
       "      <td>1</td>\n",
       "      <td>0.0</td>\n",
       "      <td>1</td>\n",
       "      <td>0</td>\n",
       "      <td>0</td>\n",
       "      <td>0</td>\n",
       "      <td>0</td>\n",
       "      <td>1</td>\n",
       "      <td>0</td>\n",
       "    </tr>\n",
       "    <tr>\n",
       "      <td>791</td>\n",
       "      <td>791</td>\n",
       "      <td>792</td>\n",
       "      <td>0</td>\n",
       "      <td>1</td>\n",
       "      <td>0.2000</td>\n",
       "      <td>0.050749</td>\n",
       "      <td>0</td>\n",
       "      <td>1</td>\n",
       "      <td>0</td>\n",
       "      <td>0.0</td>\n",
       "      <td>1</td>\n",
       "      <td>0</td>\n",
       "      <td>0</td>\n",
       "      <td>0</td>\n",
       "      <td>0</td>\n",
       "      <td>0</td>\n",
       "      <td>1</td>\n",
       "    </tr>\n",
       "  </tbody>\n",
       "</table>\n",
       "<p>792 rows × 17 columns</p>\n",
       "</div>"
      ],
      "text/plain": [
       "          PassengerId  Survived  Sex     Age      Fare  Pclass_1  Pclass_2  \\\n",
       "0      0            1         0    1  0.2750  0.014151         0         0   \n",
       "1      1            2         1    0  0.4750  0.139136         1         0   \n",
       "2      2            3         1    0  0.3250  0.015469         0         0   \n",
       "3      3            4         1    0  0.4375  0.103644         1         0   \n",
       "4      4            5         0    1  0.4375  0.015713         0         0   \n",
       "..   ...          ...       ...  ...     ...       ...       ...       ...   \n",
       "787  787          788         0    1  0.1000  0.056848         0         0   \n",
       "788  788          789         1    1  0.0125  0.040160         0         0   \n",
       "789  789          790         0    1  0.5750  0.154588         1         0   \n",
       "790  790          791         0    1  0.3500  0.015127         0         0   \n",
       "791  791          792         0    1  0.2000  0.050749         0         1   \n",
       "\n",
       "     Pclass_3  Family_size  Title_1  Title_2  Title_3  Title_4  Emb_1  Emb_2  \\\n",
       "0           1          0.1        1        0        0        0      0      0   \n",
       "1           0          0.1        1        0        0        0      1      0   \n",
       "2           1          0.0        0        0        0        1      0      0   \n",
       "3           0          0.1        1        0        0        0      0      0   \n",
       "4           1          0.0        1        0        0        0      0      0   \n",
       "..        ...          ...      ...      ...      ...      ...    ...    ...   \n",
       "787         1          0.5        0        0        1        0      0      1   \n",
       "788         1          0.3        0        0        1        0      0      0   \n",
       "789         0          0.0        1        0        0        0      1      0   \n",
       "790         1          0.0        1        0        0        0      0      1   \n",
       "791         0          0.0        1        0        0        0      0      0   \n",
       "\n",
       "     Emb_3  \n",
       "0        1  \n",
       "1        0  \n",
       "2        1  \n",
       "3        1  \n",
       "4        1  \n",
       "..     ...  \n",
       "787      0  \n",
       "788      1  \n",
       "789      0  \n",
       "790      0  \n",
       "791      1  \n",
       "\n",
       "[792 rows x 17 columns]"
      ]
     },
     "execution_count": 63,
     "metadata": {},
     "output_type": "execute_result"
    }
   ],
   "source": [
    "data_train"
   ]
  },
  {
   "cell_type": "markdown",
   "metadata": {},
   "source": [
    "Можно видеть, что datset уже частично обработан, т.е.\n",
    "1. вещественные признаки в dataset нормализованы;\n",
    "2. категориальные признаки векторизированы;\n",
    "3. пропущенные значения заполнены медианой значений столбца;\n",
    "4. значения бинарных признаков переведены в 0 или 1.\n",
    "\n",
    "Информация для последующего анализа:\n",
    "1. Столбцы Pclass_1..Pclass3 соответствуют классу (upper, middle, lower соответственно);\n",
    "2. Столбцы Title_1..Title_4 соответствуют тому, женат/замужем ли пассажир или нет (Mr, Mrs, Master, Miss);\n",
    "3. Столбцы Emb_1..Emb_3 соответствуют порту, в котором была осуществлена посадка (Cherbourg, Queenstown, Southampton);\n",
    "4. Пол: 0 - мужчины, 1 - женщины."
   ]
  },
  {
   "cell_type": "markdown",
   "metadata": {},
   "source": [
    "Можно попробовать построить попарные матрицы разброса некоторых признаков, а также посмотреть значения некоторых эмперических характеристик выборки. Однако какие-либо значимые выводы касательно зависимости выживаемости от значений признаков сделать затруднительно (особенно для данного уже частично обработанного dataset). "
   ]
  },
  {
   "cell_type": "code",
   "execution_count": 64,
   "metadata": {},
   "outputs": [
    {
     "data": {
      "image/png": "[encoded data removed]",
      "text/plain": [
       "<Figure size 720x720 with 25 Axes>"
      ]
     },
     "metadata": {
      "needs_background": "light"
     },
     "output_type": "display_data"
    }
   ],
   "source": [
    "data_plot = data_train[['Survived', 'Sex', 'Fare', 'Family_size', 'Age']]\n",
    "sm = pd.plotting.scatter_matrix(data_plot, alpha = .01, figsize = (10, 10))"
   ]
  },
  {
   "cell_type": "code",
   "execution_count": 65,
   "metadata": {},
   "outputs": [
    {
     "data": {
      "text/html": [
       "<div>\n",
       "<style scoped>\n",
       "    .dataframe tbody tr th:only-of-type {\n",
       "        vertical-align: middle;\n",
       "    }\n",
       "\n",
       "    .dataframe tbody tr th {\n",
       "        vertical-align: top;\n",
       "    }\n",
       "\n",
       "    .dataframe thead th {\n",
       "        text-align: right;\n",
       "    }\n",
       "</style>\n",
       "<table border=\"1\" class=\"dataframe\">\n",
       "  <thead>\n",
       "    <tr style=\"text-align: right;\">\n",
       "      <th></th>\n",
       "      <th></th>\n",
       "      <th>PassengerId</th>\n",
       "      <th>Survived</th>\n",
       "      <th>Sex</th>\n",
       "      <th>Age</th>\n",
       "      <th>Fare</th>\n",
       "      <th>Pclass_1</th>\n",
       "      <th>Pclass_2</th>\n",
       "      <th>Pclass_3</th>\n",
       "      <th>Family_size</th>\n",
       "      <th>Title_1</th>\n",
       "      <th>Title_2</th>\n",
       "      <th>Title_3</th>\n",
       "      <th>Title_4</th>\n",
       "      <th>Emb_1</th>\n",
       "      <th>Emb_2</th>\n",
       "      <th>Emb_3</th>\n",
       "    </tr>\n",
       "  </thead>\n",
       "  <tbody>\n",
       "    <tr>\n",
       "      <td>count</td>\n",
       "      <td>792.000000</td>\n",
       "      <td>792.000000</td>\n",
       "      <td>792.000000</td>\n",
       "      <td>792.000000</td>\n",
       "      <td>792.000000</td>\n",
       "      <td>792.000000</td>\n",
       "      <td>792.000000</td>\n",
       "      <td>792.000000</td>\n",
       "      <td>792.000000</td>\n",
       "      <td>792.000000</td>\n",
       "      <td>792.000000</td>\n",
       "      <td>792.000000</td>\n",
       "      <td>792.000000</td>\n",
       "      <td>792.000000</td>\n",
       "      <td>792.000000</td>\n",
       "      <td>792.000000</td>\n",
       "      <td>792.000000</td>\n",
       "    </tr>\n",
       "    <tr>\n",
       "      <td>mean</td>\n",
       "      <td>395.500000</td>\n",
       "      <td>396.500000</td>\n",
       "      <td>0.386364</td>\n",
       "      <td>0.647727</td>\n",
       "      <td>0.368244</td>\n",
       "      <td>0.064677</td>\n",
       "      <td>0.243687</td>\n",
       "      <td>0.208333</td>\n",
       "      <td>0.547980</td>\n",
       "      <td>0.088636</td>\n",
       "      <td>0.744949</td>\n",
       "      <td>0.005051</td>\n",
       "      <td>0.040404</td>\n",
       "      <td>0.209596</td>\n",
       "      <td>0.185606</td>\n",
       "      <td>0.092172</td>\n",
       "      <td>0.720960</td>\n",
       "    </tr>\n",
       "    <tr>\n",
       "      <td>std</td>\n",
       "      <td>228.774999</td>\n",
       "      <td>228.774999</td>\n",
       "      <td>0.487223</td>\n",
       "      <td>0.477980</td>\n",
       "      <td>0.162994</td>\n",
       "      <td>0.100987</td>\n",
       "      <td>0.429577</td>\n",
       "      <td>0.406373</td>\n",
       "      <td>0.498007</td>\n",
       "      <td>0.154485</td>\n",
       "      <td>0.436165</td>\n",
       "      <td>0.070932</td>\n",
       "      <td>0.197029</td>\n",
       "      <td>0.407277</td>\n",
       "      <td>0.389034</td>\n",
       "      <td>0.289451</td>\n",
       "      <td>0.448811</td>\n",
       "    </tr>\n",
       "    <tr>\n",
       "      <td>min</td>\n",
       "      <td>0.000000</td>\n",
       "      <td>1.000000</td>\n",
       "      <td>0.000000</td>\n",
       "      <td>0.000000</td>\n",
       "      <td>0.008375</td>\n",
       "      <td>0.000000</td>\n",
       "      <td>0.000000</td>\n",
       "      <td>0.000000</td>\n",
       "      <td>0.000000</td>\n",
       "      <td>0.000000</td>\n",
       "      <td>0.000000</td>\n",
       "      <td>0.000000</td>\n",
       "      <td>0.000000</td>\n",
       "      <td>0.000000</td>\n",
       "      <td>0.000000</td>\n",
       "      <td>0.000000</td>\n",
       "      <td>0.000000</td>\n",
       "    </tr>\n",
       "    <tr>\n",
       "      <td>25%</td>\n",
       "      <td>197.750000</td>\n",
       "      <td>198.750000</td>\n",
       "      <td>0.000000</td>\n",
       "      <td>0.000000</td>\n",
       "      <td>0.275000</td>\n",
       "      <td>0.015469</td>\n",
       "      <td>0.000000</td>\n",
       "      <td>0.000000</td>\n",
       "      <td>0.000000</td>\n",
       "      <td>0.000000</td>\n",
       "      <td>0.000000</td>\n",
       "      <td>0.000000</td>\n",
       "      <td>0.000000</td>\n",
       "      <td>0.000000</td>\n",
       "      <td>0.000000</td>\n",
       "      <td>0.000000</td>\n",
       "      <td>0.000000</td>\n",
       "    </tr>\n",
       "    <tr>\n",
       "      <td>50%</td>\n",
       "      <td>395.500000</td>\n",
       "      <td>396.500000</td>\n",
       "      <td>0.000000</td>\n",
       "      <td>1.000000</td>\n",
       "      <td>0.350000</td>\n",
       "      <td>0.028302</td>\n",
       "      <td>0.000000</td>\n",
       "      <td>0.000000</td>\n",
       "      <td>1.000000</td>\n",
       "      <td>0.000000</td>\n",
       "      <td>1.000000</td>\n",
       "      <td>0.000000</td>\n",
       "      <td>0.000000</td>\n",
       "      <td>0.000000</td>\n",
       "      <td>0.000000</td>\n",
       "      <td>0.000000</td>\n",
       "      <td>1.000000</td>\n",
       "    </tr>\n",
       "    <tr>\n",
       "      <td>75%</td>\n",
       "      <td>593.250000</td>\n",
       "      <td>594.250000</td>\n",
       "      <td>1.000000</td>\n",
       "      <td>1.000000</td>\n",
       "      <td>0.437500</td>\n",
       "      <td>0.061045</td>\n",
       "      <td>0.000000</td>\n",
       "      <td>0.000000</td>\n",
       "      <td>1.000000</td>\n",
       "      <td>0.100000</td>\n",
       "      <td>1.000000</td>\n",
       "      <td>0.000000</td>\n",
       "      <td>0.000000</td>\n",
       "      <td>0.000000</td>\n",
       "      <td>0.000000</td>\n",
       "      <td>0.000000</td>\n",
       "      <td>1.000000</td>\n",
       "    </tr>\n",
       "    <tr>\n",
       "      <td>max</td>\n",
       "      <td>791.000000</td>\n",
       "      <td>792.000000</td>\n",
       "      <td>1.000000</td>\n",
       "      <td>1.000000</td>\n",
       "      <td>1.000000</td>\n",
       "      <td>1.000000</td>\n",
       "      <td>1.000000</td>\n",
       "      <td>1.000000</td>\n",
       "      <td>1.000000</td>\n",
       "      <td>1.000000</td>\n",
       "      <td>1.000000</td>\n",
       "      <td>1.000000</td>\n",
       "      <td>1.000000</td>\n",
       "      <td>1.000000</td>\n",
       "      <td>1.000000</td>\n",
       "      <td>1.000000</td>\n",
       "      <td>1.000000</td>\n",
       "    </tr>\n",
       "  </tbody>\n",
       "</table>\n",
       "</div>"
      ],
      "text/plain": [
       "                   PassengerId    Survived         Sex         Age  \\\n",
       "count  792.000000   792.000000  792.000000  792.000000  792.000000   \n",
       "mean   395.500000   396.500000    0.386364    0.647727    0.368244   \n",
       "std    228.774999   228.774999    0.487223    0.477980    0.162994   \n",
       "min      0.000000     1.000000    0.000000    0.000000    0.008375   \n",
       "25%    197.750000   198.750000    0.000000    0.000000    0.275000   \n",
       "50%    395.500000   396.500000    0.000000    1.000000    0.350000   \n",
       "75%    593.250000   594.250000    1.000000    1.000000    0.437500   \n",
       "max    791.000000   792.000000    1.000000    1.000000    1.000000   \n",
       "\n",
       "             Fare    Pclass_1    Pclass_2    Pclass_3  Family_size  \\\n",
       "count  792.000000  792.000000  792.000000  792.000000   792.000000   \n",
       "mean     0.064677    0.243687    0.208333    0.547980     0.088636   \n",
       "std      0.100987    0.429577    0.406373    0.498007     0.154485   \n",
       "min      0.000000    0.000000    0.000000    0.000000     0.000000   \n",
       "25%      0.015469    0.000000    0.000000    0.000000     0.000000   \n",
       "50%      0.028302    0.000000    0.000000    1.000000     0.000000   \n",
       "75%      0.061045    0.000000    0.000000    1.000000     0.100000   \n",
       "max      1.000000    1.000000    1.000000    1.000000     1.000000   \n",
       "\n",
       "          Title_1     Title_2     Title_3     Title_4       Emb_1       Emb_2  \\\n",
       "count  792.000000  792.000000  792.000000  792.000000  792.000000  792.000000   \n",
       "mean     0.744949    0.005051    0.040404    0.209596    0.185606    0.092172   \n",
       "std      0.436165    0.070932    0.197029    0.407277    0.389034    0.289451   \n",
       "min      0.000000    0.000000    0.000000    0.000000    0.000000    0.000000   \n",
       "25%      0.000000    0.000000    0.000000    0.000000    0.000000    0.000000   \n",
       "50%      1.000000    0.000000    0.000000    0.000000    0.000000    0.000000   \n",
       "75%      1.000000    0.000000    0.000000    0.000000    0.000000    0.000000   \n",
       "max      1.000000    1.000000    1.000000    1.000000    1.000000    1.000000   \n",
       "\n",
       "            Emb_3  \n",
       "count  792.000000  \n",
       "mean     0.720960  \n",
       "std      0.448811  \n",
       "min      0.000000  \n",
       "25%      0.000000  \n",
       "50%      1.000000  \n",
       "75%      1.000000  \n",
       "max      1.000000  "
      ]
     },
     "execution_count": 65,
     "metadata": {},
     "output_type": "execute_result"
    }
   ],
   "source": [
    "data_train.describe()"
   ]
  },
  {
   "cell_type": "markdown",
   "metadata": {},
   "source": [
    "Поскольку вся работа по обработке данных уже проделана, переходим к решению задачи."
   ]
  },
  {
   "cell_type": "markdown",
   "metadata": {},
   "source": [
    "Готовим тренировочные данные."
   ]
  },
  {
   "cell_type": "code",
   "execution_count": 66,
   "metadata": {},
   "outputs": [],
   "source": [
    "X_train = data_train.drop(('Survived'), axis = 1)\n",
    "y_train = data_train['Survived']"
   ]
  },
  {
   "cell_type": "code",
   "execution_count": 67,
   "metadata": {},
   "outputs": [
    {
     "data": {
      "text/html": [
       "<div>\n",
       "<style scoped>\n",
       "    .dataframe tbody tr th:only-of-type {\n",
       "        vertical-align: middle;\n",
       "    }\n",
       "\n",
       "    .dataframe tbody tr th {\n",
       "        vertical-align: top;\n",
       "    }\n",
       "\n",
       "    .dataframe thead th {\n",
       "        text-align: right;\n",
       "    }\n",
       "</style>\n",
       "<table border=\"1\" class=\"dataframe\">\n",
       "  <thead>\n",
       "    <tr style=\"text-align: right;\">\n",
       "      <th></th>\n",
       "      <th></th>\n",
       "      <th>PassengerId</th>\n",
       "      <th>Sex</th>\n",
       "      <th>Age</th>\n",
       "      <th>Fare</th>\n",
       "      <th>Pclass_1</th>\n",
       "      <th>Pclass_2</th>\n",
       "      <th>Pclass_3</th>\n",
       "      <th>Family_size</th>\n",
       "      <th>Title_1</th>\n",
       "      <th>Title_2</th>\n",
       "      <th>Title_3</th>\n",
       "      <th>Title_4</th>\n",
       "      <th>Emb_1</th>\n",
       "      <th>Emb_2</th>\n",
       "      <th>Emb_3</th>\n",
       "    </tr>\n",
       "  </thead>\n",
       "  <tbody>\n",
       "    <tr>\n",
       "      <td>0</td>\n",
       "      <td>0</td>\n",
       "      <td>1</td>\n",
       "      <td>1</td>\n",
       "      <td>0.2750</td>\n",
       "      <td>0.014151</td>\n",
       "      <td>0</td>\n",
       "      <td>0</td>\n",
       "      <td>1</td>\n",
       "      <td>0.1</td>\n",
       "      <td>1</td>\n",
       "      <td>0</td>\n",
       "      <td>0</td>\n",
       "      <td>0</td>\n",
       "      <td>0</td>\n",
       "      <td>0</td>\n",
       "      <td>1</td>\n",
       "    </tr>\n",
       "    <tr>\n",
       "      <td>1</td>\n",
       "      <td>1</td>\n",
       "      <td>2</td>\n",
       "      <td>0</td>\n",
       "      <td>0.4750</td>\n",
       "      <td>0.139136</td>\n",
       "      <td>1</td>\n",
       "      <td>0</td>\n",
       "      <td>0</td>\n",
       "      <td>0.1</td>\n",
       "      <td>1</td>\n",
       "      <td>0</td>\n",
       "      <td>0</td>\n",
       "      <td>0</td>\n",
       "      <td>1</td>\n",
       "      <td>0</td>\n",
       "      <td>0</td>\n",
       "    </tr>\n",
       "    <tr>\n",
       "      <td>2</td>\n",
       "      <td>2</td>\n",
       "      <td>3</td>\n",
       "      <td>0</td>\n",
       "      <td>0.3250</td>\n",
       "      <td>0.015469</td>\n",
       "      <td>0</td>\n",
       "      <td>0</td>\n",
       "      <td>1</td>\n",
       "      <td>0.0</td>\n",
       "      <td>0</td>\n",
       "      <td>0</td>\n",
       "      <td>0</td>\n",
       "      <td>1</td>\n",
       "      <td>0</td>\n",
       "      <td>0</td>\n",
       "      <td>1</td>\n",
       "    </tr>\n",
       "    <tr>\n",
       "      <td>3</td>\n",
       "      <td>3</td>\n",
       "      <td>4</td>\n",
       "      <td>0</td>\n",
       "      <td>0.4375</td>\n",
       "      <td>0.103644</td>\n",
       "      <td>1</td>\n",
       "      <td>0</td>\n",
       "      <td>0</td>\n",
       "      <td>0.1</td>\n",
       "      <td>1</td>\n",
       "      <td>0</td>\n",
       "      <td>0</td>\n",
       "      <td>0</td>\n",
       "      <td>0</td>\n",
       "      <td>0</td>\n",
       "      <td>1</td>\n",
       "    </tr>\n",
       "    <tr>\n",
       "      <td>4</td>\n",
       "      <td>4</td>\n",
       "      <td>5</td>\n",
       "      <td>1</td>\n",
       "      <td>0.4375</td>\n",
       "      <td>0.015713</td>\n",
       "      <td>0</td>\n",
       "      <td>0</td>\n",
       "      <td>1</td>\n",
       "      <td>0.0</td>\n",
       "      <td>1</td>\n",
       "      <td>0</td>\n",
       "      <td>0</td>\n",
       "      <td>0</td>\n",
       "      <td>0</td>\n",
       "      <td>0</td>\n",
       "      <td>1</td>\n",
       "    </tr>\n",
       "    <tr>\n",
       "      <td>...</td>\n",
       "      <td>...</td>\n",
       "      <td>...</td>\n",
       "      <td>...</td>\n",
       "      <td>...</td>\n",
       "      <td>...</td>\n",
       "      <td>...</td>\n",
       "      <td>...</td>\n",
       "      <td>...</td>\n",
       "      <td>...</td>\n",
       "      <td>...</td>\n",
       "      <td>...</td>\n",
       "      <td>...</td>\n",
       "      <td>...</td>\n",
       "      <td>...</td>\n",
       "      <td>...</td>\n",
       "      <td>...</td>\n",
       "    </tr>\n",
       "    <tr>\n",
       "      <td>787</td>\n",
       "      <td>787</td>\n",
       "      <td>788</td>\n",
       "      <td>1</td>\n",
       "      <td>0.1000</td>\n",
       "      <td>0.056848</td>\n",
       "      <td>0</td>\n",
       "      <td>0</td>\n",
       "      <td>1</td>\n",
       "      <td>0.5</td>\n",
       "      <td>0</td>\n",
       "      <td>0</td>\n",
       "      <td>1</td>\n",
       "      <td>0</td>\n",
       "      <td>0</td>\n",
       "      <td>1</td>\n",
       "      <td>0</td>\n",
       "    </tr>\n",
       "    <tr>\n",
       "      <td>788</td>\n",
       "      <td>788</td>\n",
       "      <td>789</td>\n",
       "      <td>1</td>\n",
       "      <td>0.0125</td>\n",
       "      <td>0.040160</td>\n",
       "      <td>0</td>\n",
       "      <td>0</td>\n",
       "      <td>1</td>\n",
       "      <td>0.3</td>\n",
       "      <td>0</td>\n",
       "      <td>0</td>\n",
       "      <td>1</td>\n",
       "      <td>0</td>\n",
       "      <td>0</td>\n",
       "      <td>0</td>\n",
       "      <td>1</td>\n",
       "    </tr>\n",
       "    <tr>\n",
       "      <td>789</td>\n",
       "      <td>789</td>\n",
       "      <td>790</td>\n",
       "      <td>1</td>\n",
       "      <td>0.5750</td>\n",
       "      <td>0.154588</td>\n",
       "      <td>1</td>\n",
       "      <td>0</td>\n",
       "      <td>0</td>\n",
       "      <td>0.0</td>\n",
       "      <td>1</td>\n",
       "      <td>0</td>\n",
       "      <td>0</td>\n",
       "      <td>0</td>\n",
       "      <td>1</td>\n",
       "      <td>0</td>\n",
       "      <td>0</td>\n",
       "    </tr>\n",
       "    <tr>\n",
       "      <td>790</td>\n",
       "      <td>790</td>\n",
       "      <td>791</td>\n",
       "      <td>1</td>\n",
       "      <td>0.3500</td>\n",
       "      <td>0.015127</td>\n",
       "      <td>0</td>\n",
       "      <td>0</td>\n",
       "      <td>1</td>\n",
       "      <td>0.0</td>\n",
       "      <td>1</td>\n",
       "      <td>0</td>\n",
       "      <td>0</td>\n",
       "      <td>0</td>\n",
       "      <td>0</td>\n",
       "      <td>1</td>\n",
       "      <td>0</td>\n",
       "    </tr>\n",
       "    <tr>\n",
       "      <td>791</td>\n",
       "      <td>791</td>\n",
       "      <td>792</td>\n",
       "      <td>1</td>\n",
       "      <td>0.2000</td>\n",
       "      <td>0.050749</td>\n",
       "      <td>0</td>\n",
       "      <td>1</td>\n",
       "      <td>0</td>\n",
       "      <td>0.0</td>\n",
       "      <td>1</td>\n",
       "      <td>0</td>\n",
       "      <td>0</td>\n",
       "      <td>0</td>\n",
       "      <td>0</td>\n",
       "      <td>0</td>\n",
       "      <td>1</td>\n",
       "    </tr>\n",
       "  </tbody>\n",
       "</table>\n",
       "<p>792 rows × 16 columns</p>\n",
       "</div>"
      ],
      "text/plain": [
       "          PassengerId  Sex     Age      Fare  Pclass_1  Pclass_2  Pclass_3  \\\n",
       "0      0            1    1  0.2750  0.014151         0         0         1   \n",
       "1      1            2    0  0.4750  0.139136         1         0         0   \n",
       "2      2            3    0  0.3250  0.015469         0         0         1   \n",
       "3      3            4    0  0.4375  0.103644         1         0         0   \n",
       "4      4            5    1  0.4375  0.015713         0         0         1   \n",
       "..   ...          ...  ...     ...       ...       ...       ...       ...   \n",
       "787  787          788    1  0.1000  0.056848         0         0         1   \n",
       "788  788          789    1  0.0125  0.040160         0         0         1   \n",
       "789  789          790    1  0.5750  0.154588         1         0         0   \n",
       "790  790          791    1  0.3500  0.015127         0         0         1   \n",
       "791  791          792    1  0.2000  0.050749         0         1         0   \n",
       "\n",
       "     Family_size  Title_1  Title_2  Title_3  Title_4  Emb_1  Emb_2  Emb_3  \n",
       "0            0.1        1        0        0        0      0      0      1  \n",
       "1            0.1        1        0        0        0      1      0      0  \n",
       "2            0.0        0        0        0        1      0      0      1  \n",
       "3            0.1        1        0        0        0      0      0      1  \n",
       "4            0.0        1        0        0        0      0      0      1  \n",
       "..           ...      ...      ...      ...      ...    ...    ...    ...  \n",
       "787          0.5        0        0        1        0      0      1      0  \n",
       "788          0.3        0        0        1        0      0      0      1  \n",
       "789          0.0        1        0        0        0      1      0      0  \n",
       "790          0.0        1        0        0        0      0      1      0  \n",
       "791          0.0        1        0        0        0      0      0      1  \n",
       "\n",
       "[792 rows x 16 columns]"
      ]
     },
     "execution_count": 67,
     "metadata": {},
     "output_type": "execute_result"
    }
   ],
   "source": [
    "X_train"
   ]
  },
  {
   "cell_type": "code",
   "execution_count": 68,
   "metadata": {},
   "outputs": [
    {
     "data": {
      "text/plain": [
       "0      0\n",
       "1      1\n",
       "2      1\n",
       "3      1\n",
       "4      0\n",
       "      ..\n",
       "787    0\n",
       "788    1\n",
       "789    0\n",
       "790    0\n",
       "791    0\n",
       "Name: Survived, Length: 792, dtype: int64"
      ]
     },
     "execution_count": 68,
     "metadata": {},
     "output_type": "execute_result"
    }
   ],
   "source": [
    "y_train"
   ]
  },
  {
   "cell_type": "markdown",
   "metadata": {},
   "source": [
    "Воспользуемся методом ближайших соседей. Пусть сначала число соседей = 10."
   ]
  },
  {
   "cell_type": "code",
   "execution_count": 69,
   "metadata": {},
   "outputs": [
    {
     "name": "stdout",
     "output_type": "stream",
     "text": [
      "0.3484848484848485\n"
     ]
    }
   ],
   "source": [
    "from sklearn.neighbors import KNeighborsClassifier\n",
    "\n",
    "knn = KNeighborsClassifier(n_neighbors = 10)\n",
    "knn.fit(X_train, y_train)\n",
    "\n",
    "y_train_predict = knn.predict(X_train)\n",
    "err_train = np.mean(y_train != y_train_predict)\n",
    "print(err_train)"
   ]
  },
  {
   "cell_type": "markdown",
   "metadata": {},
   "source": [
    "Можно видеть, что неверных прогнозов на тестовой выборке 34%. Попробуем уменьшить ошибку, варьируя число соседей."
   ]
  },
  {
   "cell_type": "code",
   "execution_count": 70,
   "metadata": {},
   "outputs": [
    {
     "name": "stdout",
     "output_type": "stream",
     "text": [
      "0.29292929292929293\n"
     ]
    }
   ],
   "source": [
    "knn = KNeighborsClassifier(n_neighbors = 7)\n",
    "knn.fit(X_train, y_train)\n",
    "\n",
    "y_train_predict = knn.predict(X_train)\n",
    "err_train = np.mean(y_train != y_train_predict)\n",
    "print(err_train)"
   ]
  },
  {
   "cell_type": "code",
   "execution_count": 71,
   "metadata": {},
   "outputs": [
    {
     "name": "stdout",
     "output_type": "stream",
     "text": [
      "0.2398989898989899\n"
     ]
    }
   ],
   "source": [
    "knn = KNeighborsClassifier(n_neighbors = 2)\n",
    "knn.fit(X_train, y_train)\n",
    "\n",
    "y_train_predict = knn.predict(X_train)\n",
    "err_train = np.mean(y_train != y_train_predict)\n",
    "print(err_train)"
   ]
  },
  {
   "cell_type": "code",
   "execution_count": 72,
   "metadata": {},
   "outputs": [
    {
     "name": "stdout",
     "output_type": "stream",
     "text": [
      "0.0\n"
     ]
    }
   ],
   "source": [
    "knn = KNeighborsClassifier(n_neighbors = 1)\n",
    "knn.fit(X_train, y_train)\n",
    "\n",
    "y_train_predict = knn.predict(X_train)\n",
    "err_train = np.mean(y_train != y_train_predict)\n",
    "print(err_train)"
   ]
  },
  {
   "cell_type": "markdown",
   "metadata": {},
   "source": [
    "Можно видеть, что если k = 1, то ошибка на тестовой выборке = 0, что ожидаемо (имеет место переобучение). При этом если k = 2, то ошибка уже достигает 23%. Это говорит от том, что для данной задачи трудно сделать выводы касательно выживаемости по имеющимся данным с использованием метода ближайших соседей."
   ]
  },
  {
   "cell_type": "markdown",
   "metadata": {},
   "source": [
    "Выберем k = 7, попробуем сделать предсказание для тестовой выборки."
   ]
  },
  {
   "cell_type": "code",
   "execution_count": 73,
   "metadata": {},
   "outputs": [
    {
     "data": {
      "text/html": [
       "<div>\n",
       "<style scoped>\n",
       "    .dataframe tbody tr th:only-of-type {\n",
       "        vertical-align: middle;\n",
       "    }\n",
       "\n",
       "    .dataframe tbody tr th {\n",
       "        vertical-align: top;\n",
       "    }\n",
       "\n",
       "    .dataframe thead th {\n",
       "        text-align: right;\n",
       "    }\n",
       "</style>\n",
       "<table border=\"1\" class=\"dataframe\">\n",
       "  <thead>\n",
       "    <tr style=\"text-align: right;\">\n",
       "      <th></th>\n",
       "      <th></th>\n",
       "      <th>PassengerId</th>\n",
       "      <th>Survived</th>\n",
       "      <th>Sex</th>\n",
       "      <th>Age</th>\n",
       "      <th>Fare</th>\n",
       "      <th>Pclass_1</th>\n",
       "      <th>Pclass_2</th>\n",
       "      <th>Pclass_3</th>\n",
       "      <th>Family_size</th>\n",
       "      <th>Title_1</th>\n",
       "      <th>Title_2</th>\n",
       "      <th>Title_3</th>\n",
       "      <th>Title_4</th>\n",
       "      <th>Emb_1</th>\n",
       "      <th>Emb_2</th>\n",
       "      <th>Emb_3</th>\n",
       "    </tr>\n",
       "  </thead>\n",
       "  <tbody>\n",
       "    <tr>\n",
       "      <td>0</td>\n",
       "      <td>791</td>\n",
       "      <td>792</td>\n",
       "      <td>0</td>\n",
       "      <td>1</td>\n",
       "      <td>0.2000</td>\n",
       "      <td>0.050749</td>\n",
       "      <td>0</td>\n",
       "      <td>1</td>\n",
       "      <td>0</td>\n",
       "      <td>0.0</td>\n",
       "      <td>1</td>\n",
       "      <td>0</td>\n",
       "      <td>0</td>\n",
       "      <td>0</td>\n",
       "      <td>0</td>\n",
       "      <td>0</td>\n",
       "      <td>1</td>\n",
       "    </tr>\n",
       "    <tr>\n",
       "      <td>1</td>\n",
       "      <td>792</td>\n",
       "      <td>793</td>\n",
       "      <td>0</td>\n",
       "      <td>0</td>\n",
       "      <td>0.3500</td>\n",
       "      <td>0.135753</td>\n",
       "      <td>0</td>\n",
       "      <td>0</td>\n",
       "      <td>1</td>\n",
       "      <td>1.0</td>\n",
       "      <td>0</td>\n",
       "      <td>0</td>\n",
       "      <td>0</td>\n",
       "      <td>1</td>\n",
       "      <td>0</td>\n",
       "      <td>0</td>\n",
       "      <td>1</td>\n",
       "    </tr>\n",
       "    <tr>\n",
       "      <td>2</td>\n",
       "      <td>793</td>\n",
       "      <td>794</td>\n",
       "      <td>0</td>\n",
       "      <td>1</td>\n",
       "      <td>0.3500</td>\n",
       "      <td>0.059914</td>\n",
       "      <td>1</td>\n",
       "      <td>0</td>\n",
       "      <td>0</td>\n",
       "      <td>0.0</td>\n",
       "      <td>1</td>\n",
       "      <td>0</td>\n",
       "      <td>0</td>\n",
       "      <td>0</td>\n",
       "      <td>1</td>\n",
       "      <td>0</td>\n",
       "      <td>0</td>\n",
       "    </tr>\n",
       "    <tr>\n",
       "      <td>3</td>\n",
       "      <td>794</td>\n",
       "      <td>795</td>\n",
       "      <td>0</td>\n",
       "      <td>1</td>\n",
       "      <td>0.3125</td>\n",
       "      <td>0.015412</td>\n",
       "      <td>0</td>\n",
       "      <td>0</td>\n",
       "      <td>1</td>\n",
       "      <td>0.0</td>\n",
       "      <td>1</td>\n",
       "      <td>0</td>\n",
       "      <td>0</td>\n",
       "      <td>0</td>\n",
       "      <td>0</td>\n",
       "      <td>0</td>\n",
       "      <td>1</td>\n",
       "    </tr>\n",
       "    <tr>\n",
       "      <td>4</td>\n",
       "      <td>795</td>\n",
       "      <td>796</td>\n",
       "      <td>0</td>\n",
       "      <td>1</td>\n",
       "      <td>0.4875</td>\n",
       "      <td>0.025374</td>\n",
       "      <td>0</td>\n",
       "      <td>1</td>\n",
       "      <td>0</td>\n",
       "      <td>0.0</td>\n",
       "      <td>1</td>\n",
       "      <td>0</td>\n",
       "      <td>0</td>\n",
       "      <td>0</td>\n",
       "      <td>0</td>\n",
       "      <td>0</td>\n",
       "      <td>1</td>\n",
       "    </tr>\n",
       "    <tr>\n",
       "      <td>...</td>\n",
       "      <td>...</td>\n",
       "      <td>...</td>\n",
       "      <td>...</td>\n",
       "      <td>...</td>\n",
       "      <td>...</td>\n",
       "      <td>...</td>\n",
       "      <td>...</td>\n",
       "      <td>...</td>\n",
       "      <td>...</td>\n",
       "      <td>...</td>\n",
       "      <td>...</td>\n",
       "      <td>...</td>\n",
       "      <td>...</td>\n",
       "      <td>...</td>\n",
       "      <td>...</td>\n",
       "      <td>...</td>\n",
       "      <td>...</td>\n",
       "    </tr>\n",
       "    <tr>\n",
       "      <td>95</td>\n",
       "      <td>886</td>\n",
       "      <td>887</td>\n",
       "      <td>0</td>\n",
       "      <td>1</td>\n",
       "      <td>0.3375</td>\n",
       "      <td>0.025374</td>\n",
       "      <td>0</td>\n",
       "      <td>1</td>\n",
       "      <td>0</td>\n",
       "      <td>0.0</td>\n",
       "      <td>1</td>\n",
       "      <td>0</td>\n",
       "      <td>0</td>\n",
       "      <td>0</td>\n",
       "      <td>0</td>\n",
       "      <td>0</td>\n",
       "      <td>1</td>\n",
       "    </tr>\n",
       "    <tr>\n",
       "      <td>96</td>\n",
       "      <td>887</td>\n",
       "      <td>888</td>\n",
       "      <td>1</td>\n",
       "      <td>0</td>\n",
       "      <td>0.2375</td>\n",
       "      <td>0.058556</td>\n",
       "      <td>1</td>\n",
       "      <td>0</td>\n",
       "      <td>0</td>\n",
       "      <td>0.0</td>\n",
       "      <td>0</td>\n",
       "      <td>0</td>\n",
       "      <td>0</td>\n",
       "      <td>1</td>\n",
       "      <td>0</td>\n",
       "      <td>0</td>\n",
       "      <td>1</td>\n",
       "    </tr>\n",
       "    <tr>\n",
       "      <td>97</td>\n",
       "      <td>888</td>\n",
       "      <td>889</td>\n",
       "      <td>0</td>\n",
       "      <td>0</td>\n",
       "      <td>0.3500</td>\n",
       "      <td>0.045771</td>\n",
       "      <td>0</td>\n",
       "      <td>0</td>\n",
       "      <td>1</td>\n",
       "      <td>0.3</td>\n",
       "      <td>0</td>\n",
       "      <td>0</td>\n",
       "      <td>0</td>\n",
       "      <td>1</td>\n",
       "      <td>0</td>\n",
       "      <td>0</td>\n",
       "      <td>1</td>\n",
       "    </tr>\n",
       "    <tr>\n",
       "      <td>98</td>\n",
       "      <td>889</td>\n",
       "      <td>890</td>\n",
       "      <td>1</td>\n",
       "      <td>1</td>\n",
       "      <td>0.3250</td>\n",
       "      <td>0.058556</td>\n",
       "      <td>1</td>\n",
       "      <td>0</td>\n",
       "      <td>0</td>\n",
       "      <td>0.0</td>\n",
       "      <td>1</td>\n",
       "      <td>0</td>\n",
       "      <td>0</td>\n",
       "      <td>0</td>\n",
       "      <td>1</td>\n",
       "      <td>0</td>\n",
       "      <td>0</td>\n",
       "    </tr>\n",
       "    <tr>\n",
       "      <td>99</td>\n",
       "      <td>890</td>\n",
       "      <td>891</td>\n",
       "      <td>0</td>\n",
       "      <td>1</td>\n",
       "      <td>0.4000</td>\n",
       "      <td>0.015127</td>\n",
       "      <td>0</td>\n",
       "      <td>0</td>\n",
       "      <td>1</td>\n",
       "      <td>0.0</td>\n",
       "      <td>1</td>\n",
       "      <td>0</td>\n",
       "      <td>0</td>\n",
       "      <td>0</td>\n",
       "      <td>0</td>\n",
       "      <td>1</td>\n",
       "      <td>0</td>\n",
       "    </tr>\n",
       "  </tbody>\n",
       "</table>\n",
       "<p>100 rows × 17 columns</p>\n",
       "</div>"
      ],
      "text/plain": [
       "         PassengerId  Survived  Sex     Age      Fare  Pclass_1  Pclass_2  \\\n",
       "0   791          792         0    1  0.2000  0.050749         0         1   \n",
       "1   792          793         0    0  0.3500  0.135753         0         0   \n",
       "2   793          794         0    1  0.3500  0.059914         1         0   \n",
       "3   794          795         0    1  0.3125  0.015412         0         0   \n",
       "4   795          796         0    1  0.4875  0.025374         0         1   \n",
       "..  ...          ...       ...  ...     ...       ...       ...       ...   \n",
       "95  886          887         0    1  0.3375  0.025374         0         1   \n",
       "96  887          888         1    0  0.2375  0.058556         1         0   \n",
       "97  888          889         0    0  0.3500  0.045771         0         0   \n",
       "98  889          890         1    1  0.3250  0.058556         1         0   \n",
       "99  890          891         0    1  0.4000  0.015127         0         0   \n",
       "\n",
       "    Pclass_3  Family_size  Title_1  Title_2  Title_3  Title_4  Emb_1  Emb_2  \\\n",
       "0          0          0.0        1        0        0        0      0      0   \n",
       "1          1          1.0        0        0        0        1      0      0   \n",
       "2          0          0.0        1        0        0        0      1      0   \n",
       "3          1          0.0        1        0        0        0      0      0   \n",
       "4          0          0.0        1        0        0        0      0      0   \n",
       "..       ...          ...      ...      ...      ...      ...    ...    ...   \n",
       "95         0          0.0        1        0        0        0      0      0   \n",
       "96         0          0.0        0        0        0        1      0      0   \n",
       "97         1          0.3        0        0        0        1      0      0   \n",
       "98         0          0.0        1        0        0        0      1      0   \n",
       "99         1          0.0        1        0        0        0      0      1   \n",
       "\n",
       "    Emb_3  \n",
       "0       1  \n",
       "1       1  \n",
       "2       0  \n",
       "3       1  \n",
       "4       1  \n",
       "..    ...  \n",
       "95      1  \n",
       "96      1  \n",
       "97      1  \n",
       "98      0  \n",
       "99      0  \n",
       "\n",
       "[100 rows x 17 columns]"
      ]
     },
     "execution_count": 73,
     "metadata": {},
     "output_type": "execute_result"
    }
   ],
   "source": [
    "data_test"
   ]
  },
  {
   "cell_type": "code",
   "execution_count": 74,
   "metadata": {},
   "outputs": [],
   "source": [
    "X_test = data_test.drop(('Survived'), axis = 1)\n",
    "y_test = data_test['Survived']"
   ]
  },
  {
   "cell_type": "code",
   "execution_count": 75,
   "metadata": {},
   "outputs": [
    {
     "name": "stdout",
     "output_type": "stream",
     "text": [
      "0.32\n"
     ]
    }
   ],
   "source": [
    "knn = KNeighborsClassifier(n_neighbors = 7)\n",
    "knn.fit(X_test, y_test)\n",
    "\n",
    "y_test_predict = knn.predict(X_test)\n",
    "err_test = np.mean(y_test != y_test_predict)\n",
    "print(err_test)"
   ]
  },
  {
   "cell_type": "markdown",
   "metadata": {},
   "source": [
    "Ошибка на тестовой выборке оказалась также около 30%."
   ]
  },
  {
   "cell_type": "markdown",
   "metadata": {},
   "source": [
    "Можно посмотреть, в каких случаях модель ошиблась."
   ]
  },
  {
   "cell_type": "code",
   "execution_count": 76,
   "metadata": {},
   "outputs": [
    {
     "data": {
      "text/html": [
       "<div>\n",
       "<style scoped>\n",
       "    .dataframe tbody tr th:only-of-type {\n",
       "        vertical-align: middle;\n",
       "    }\n",
       "\n",
       "    .dataframe tbody tr th {\n",
       "        vertical-align: top;\n",
       "    }\n",
       "\n",
       "    .dataframe thead th {\n",
       "        text-align: right;\n",
       "    }\n",
       "</style>\n",
       "<table border=\"1\" class=\"dataframe\">\n",
       "  <thead>\n",
       "    <tr style=\"text-align: right;\">\n",
       "      <th></th>\n",
       "      <th>Survived</th>\n",
       "      <th>0</th>\n",
       "    </tr>\n",
       "  </thead>\n",
       "  <tbody>\n",
       "    <tr>\n",
       "      <td>0</td>\n",
       "      <td>0</td>\n",
       "      <td>0</td>\n",
       "    </tr>\n",
       "    <tr>\n",
       "      <td>1</td>\n",
       "      <td>0</td>\n",
       "      <td>0</td>\n",
       "    </tr>\n",
       "    <tr>\n",
       "      <td>2</td>\n",
       "      <td>0</td>\n",
       "      <td>0</td>\n",
       "    </tr>\n",
       "    <tr>\n",
       "      <td>3</td>\n",
       "      <td>0</td>\n",
       "      <td>0</td>\n",
       "    </tr>\n",
       "    <tr>\n",
       "      <td>4</td>\n",
       "      <td>0</td>\n",
       "      <td>0</td>\n",
       "    </tr>\n",
       "    <tr>\n",
       "      <td>...</td>\n",
       "      <td>...</td>\n",
       "      <td>...</td>\n",
       "    </tr>\n",
       "    <tr>\n",
       "      <td>95</td>\n",
       "      <td>0</td>\n",
       "      <td>0</td>\n",
       "    </tr>\n",
       "    <tr>\n",
       "      <td>96</td>\n",
       "      <td>1</td>\n",
       "      <td>0</td>\n",
       "    </tr>\n",
       "    <tr>\n",
       "      <td>97</td>\n",
       "      <td>0</td>\n",
       "      <td>0</td>\n",
       "    </tr>\n",
       "    <tr>\n",
       "      <td>98</td>\n",
       "      <td>1</td>\n",
       "      <td>0</td>\n",
       "    </tr>\n",
       "    <tr>\n",
       "      <td>99</td>\n",
       "      <td>0</td>\n",
       "      <td>0</td>\n",
       "    </tr>\n",
       "  </tbody>\n",
       "</table>\n",
       "<p>100 rows × 2 columns</p>\n",
       "</div>"
      ],
      "text/plain": [
       "    Survived  0\n",
       "0          0  0\n",
       "1          0  0\n",
       "2          0  0\n",
       "3          0  0\n",
       "4          0  0\n",
       "..       ... ..\n",
       "95         0  0\n",
       "96         1  0\n",
       "97         0  0\n",
       "98         1  0\n",
       "99         0  0\n",
       "\n",
       "[100 rows x 2 columns]"
      ]
     },
     "execution_count": 76,
     "metadata": {},
     "output_type": "execute_result"
    }
   ],
   "source": [
    "res_test = pd.concat((y_test, pd.Series(y_test_predict)), axis = 1)\n",
    "res_test"
   ]
  },
  {
   "cell_type": "markdown",
   "metadata": {},
   "source": [
    "Построим график зависимости ошибки от числа соседей для тестовой и тренировочной выборок."
   ]
  },
  {
   "cell_type": "code",
   "execution_count": 77,
   "metadata": {},
   "outputs": [],
   "source": [
    "dataDict = {'train':{'data':(X_train, y_train), 'error':[]}, 'test':{'data':(X_test, y_test), 'error':[]}}\n",
    "neighbours = [k for k in range(1, 15)]\n",
    "\n",
    "for k in neighbours:\n",
    "    for key in dataDict:\n",
    "        X = dataDict[key]['data'][0]\n",
    "        y = dataDict[key]['data'][1]\n",
    "        knn = KNeighborsClassifier(n_neighbors = k)\n",
    "        knn.fit(X, y)\n",
    "        y_predict = knn.predict(X)\n",
    "        dataDict[key]['error'].append(np.mean(y != y_predict))"
   ]
  },
  {
   "cell_type": "code",
   "execution_count": 78,
   "metadata": {},
   "outputs": [
    {
     "data": {
      "image/png": "[encoded data removed]",
      "text/plain": [
       "<Figure size 432x288 with 1 Axes>"
      ]
     },
     "metadata": {
      "needs_background": "light"
     },
     "output_type": "display_data"
    }
   ],
   "source": [
    "plt.plot(neighbours, dataDict['train']['error'], '-ob', label=\"Train error\")\n",
    "plt.plot(neighbours, dataDict['test']['error'], '-or', label=\"Test error\")\n",
    "plt.xlabel('k')\n",
    "plt.ylabel('error')\n",
    "plt.gca().invert_xaxis()\n",
    "plt.legend()\n",
    "plt.show()"
   ]
  },
  {
   "cell_type": "markdown",
   "metadata": {},
   "source": [
    "Видно, что при k=3 ошибка на тестовой выборке получилась сильно меньше ошибки на тренировочной выборке. В принципе, данное значение k скорее исключение из правила, но тем не менее оно дает наилучший результат как для тренировочной, так и для тестовой выборок (не считая k=1, но это уже переобучение). Определим ошибку при значении k=3."
   ]
  },
  {
   "cell_type": "code",
   "execution_count": 79,
   "metadata": {},
   "outputs": [
    {
     "name": "stdout",
     "output_type": "stream",
     "text": [
      "Train error (k=3): 0.2159090909090909\n",
      "Test error (k=3): 0.15\n"
     ]
    }
   ],
   "source": [
    "k_best = 3\n",
    "print(\"Train error (k=3): \"+str(dataDict['train']['error'][k_best-1]))\n",
    "print(\"Test error (k=3): \"+str(dataDict['test']['error'][k_best-1]))"
   ]
  },
  {
   "cell_type": "markdown",
   "metadata": {},
   "source": [
    "Вывод: для данной задачи удалось получить верное предсказание на тестовой выборке методом ближайших соседей в 85% случаев."
   ]
  },
  {
   "cell_type": "markdown",
   "metadata": {},
   "source": [
    "Применим PCA для тренировочных данных, число главных компонент = 2."
   ]
  },
  {
   "cell_type": "code",
   "execution_count": 80,
   "metadata": {},
   "outputs": [
    {
     "data": {
      "text/plain": [
       "PCA(copy=True, iterated_power='auto', n_components=2, random_state=None,\n",
       "    svd_solver='auto', tol=0.0, whiten=False)"
      ]
     },
     "execution_count": 80,
     "metadata": {},
     "output_type": "execute_result"
    }
   ],
   "source": [
    "from sklearn.decomposition import PCA\n",
    "pca = PCA(n_components=2)\n",
    "pca.fit(X_train)   "
   ]
  },
  {
   "cell_type": "markdown",
   "metadata": {},
   "source": [
    "Выведем главные компоненты, собственные значения вдоль каждой компоненты, соостветствующие сингулярные значения."
   ]
  },
  {
   "cell_type": "code",
   "execution_count": 81,
   "metadata": {},
   "outputs": [
    {
     "name": "stdout",
     "output_type": "stream",
     "text": [
      "[[ 7.07106768e-01  7.07106768e-01  8.33258192e-05  2.88607360e-05\n",
      "   1.58189015e-05  6.50328142e-05  1.02737803e-05 -7.53065945e-05\n",
      "  -3.59332435e-05  1.02600814e-04  1.07604850e-05 -4.64921804e-05\n",
      "  -6.68691190e-05 -2.03851663e-05 -3.39051195e-06  2.94889856e-05]\n",
      " [ 9.17776161e-05  9.17776161e-05 -5.70817672e-01 -4.46398450e-02\n",
      "   4.15926733e-02  1.37422411e-01 -7.14295958e-03 -1.30279452e-01\n",
      "   3.66741637e-02 -5.24899168e-01  9.48747713e-03  1.42239671e-03\n",
      "   5.13989294e-01  1.54657248e-01  8.95979076e-02 -2.47887103e-01]]\n",
      "[1.04676004e+05 4.94232537e-01]\n",
      "[9099.38015129   19.77215054]\n"
     ]
    }
   ],
   "source": [
    "print(pca.components_)\n",
    "print(pca.explained_variance_)\n",
    "print(pca.singular_values_)"
   ]
  },
  {
   "cell_type": "markdown",
   "metadata": {},
   "source": [
    "Видим, что число обусловленности получается очень большим. Следовательно, возможно, что некоторые признаки могут в той или иной степени зависеть друг от друга. В дальнейшем будет иметь смысл их убрать из рассмотрения."
   ]
  },
  {
   "cell_type": "markdown",
   "metadata": {},
   "source": [
    "Построим тренировочные данные в новом базисе. Изобразим синим цветом точки на плоскости, соответствующие выжившим людям, а красным - не выжившим. Можно видеть, что просматривается некоторая зависимость относительно второй главной компоненты."
   ]
  },
  {
   "cell_type": "code",
   "execution_count": 82,
   "metadata": {},
   "outputs": [
    {
     "data": {
      "image/png": "[encoded data removed]",
      "text/plain": [
       "<Figure size 432x288 with 1 Axes>"
      ]
     },
     "metadata": {
      "needs_background": "light"
     },
     "output_type": "display_data"
    }
   ],
   "source": [
    "X_train_pca = pca.transform(X_train)\n",
    "\n",
    "X_survived = [X_train_pca[i] for i in range(len(X_train_pca)) if y_train[i] == 1]\n",
    "X_not_survived = [X_train_pca[i] for i in range(len(X_train_pca)) if y_train[i] == 0]\n",
    "\n",
    "plt.plot([el[0] for el in X_survived], [el[1] for el in X_survived], 'ob')\n",
    "plt.plot([el[0] for el in X_not_survived], [el[1] for el in X_not_survived], 'or')\n",
    "plt.xlabel('PCA1')\n",
    "plt.ylabel('PCA2')\n",
    "plt.title('Real values')\n",
    "plt.show()"
   ]
  },
  {
   "cell_type": "markdown",
   "metadata": {},
   "source": [
    "Применим к новым данным классификатор ближайших соседей с k=k_best=3. Вычислим ошибку. Видно, что ошибка на тренировочной выборке стала больше примерно на 0.012."
   ]
  },
  {
   "cell_type": "code",
   "execution_count": 83,
   "metadata": {},
   "outputs": [
    {
     "name": "stdout",
     "output_type": "stream",
     "text": [
      "0.22727272727272727\n"
     ]
    }
   ],
   "source": [
    "knn = KNeighborsClassifier(n_neighbors = k_best)\n",
    "knn.fit(X_train_pca, y_train)\n",
    "y_train_predict = knn.predict(X_train_pca)\n",
    "err_train = np.mean(y_train != y_train_predict)\n",
    "print(err_train)"
   ]
  },
  {
   "cell_type": "markdown",
   "metadata": {},
   "source": [
    "Построим то же самое, только уже для предсказания. Зависимость вдоль второй компоненты просматривается хуже."
   ]
  },
  {
   "cell_type": "code",
   "execution_count": 84,
   "metadata": {},
   "outputs": [
    {
     "data": {
      "image/png": "[encoded data removed]",
      "text/plain": [
       "<Figure size 432x288 with 1 Axes>"
      ]
     },
     "metadata": {
      "needs_background": "light"
     },
     "output_type": "display_data"
    }
   ],
   "source": [
    "X_predict_survived = [X_train_pca[i] for i in range(len(X_train_pca)) if y_train_predict[i] == 1]\n",
    "X_predict_not_survived = [X_train_pca[i] for i in range(len(X_train_pca)) if y_train_predict[i] == 0]\n",
    "\n",
    "plt.plot([el[0] for el in X_predict_survived], [el[1] for el in X_predict_survived], 'ob')\n",
    "plt.plot([el[0] for el in X_predict_not_survived], [el[1] for el in X_predict_not_survived], 'or')\n",
    "plt.xlabel('PCA1')\n",
    "plt.ylabel('PCA2')\n",
    "plt.title('Predict values')\n",
    "plt.show()"
   ]
  },
  {
   "cell_type": "markdown",
   "metadata": {},
   "source": [
    "Без применения PCA метод ближайших соседей дал на тестовой выборке меньшую ошибку, чем на тренировочной. Проверим, будет ли так после понижения размерности."
   ]
  },
  {
   "cell_type": "code",
   "execution_count": 85,
   "metadata": {},
   "outputs": [
    {
     "name": "stdout",
     "output_type": "stream",
     "text": [
      "0.15\n"
     ]
    }
   ],
   "source": [
    "pca = PCA(n_components=2)\n",
    "pca.fit(X_test)\n",
    "X_test_pca = pca.transform(X_test)\n",
    "knn = KNeighborsClassifier(n_neighbors = k_best)\n",
    "knn.fit(X_test_pca, y_test)\n",
    "y_test_predict = knn.predict(X_test_pca)\n",
    "err_test = np.mean(y_test != y_test_predict)\n",
    "print(err_test)\n"
   ]
  },
  {
   "cell_type": "markdown",
   "metadata": {},
   "source": [
    "Ошибка на тестовой выборке после понижения размерности осталась такой же. Построим точки на плоскости (звездочками обозначим предсказание). Видно, что модель в большинстве случаев верно предсказала результат."
   ]
  },
  {
   "cell_type": "code",
   "execution_count": 86,
   "metadata": {},
   "outputs": [
    {
     "data": {
      "image/png": "[encoded data removed]",
      "text/plain": [
       "<Figure size 432x288 with 1 Axes>"
      ]
     },
     "metadata": {
      "needs_background": "light"
     },
     "output_type": "display_data"
    }
   ],
   "source": [
    "X_survived = [X_test_pca[i] for i in range(len(X_test_pca)) if y_test[i] == 1]\n",
    "X_not_survived = [X_test_pca[i] for i in range(len(X_test_pca)) if y_test[i] == 0]\n",
    "X_predict_survived = [X_test_pca[i] for i in range(len(X_test_pca)) if y_test_predict[i] == 1]\n",
    "X_predict_not_survived = [X_test_pca[i] for i in range(len(X_test_pca)) if y_test_predict[i] == 0]\n",
    "\n",
    "plt.plot([el[0] for el in X_survived], [el[1] for el in X_survived], 'ob')\n",
    "plt.plot([el[0] for el in X_not_survived], [el[1] for el in X_not_survived], 'or')\n",
    "plt.plot([el[0] for el in X_predict_survived], [el[1] for el in X_predict_survived], '*b')\n",
    "plt.plot([el[0] for el in X_predict_not_survived], [el[1] for el in X_predict_not_survived], '*r')\n",
    "plt.xlabel('PCA1')\n",
    "plt.ylabel('PCA2')\n",
    "plt.show()"
   ]
  },
  {
   "cell_type": "markdown",
   "metadata": {},
   "source": [
    "Исследуем ошибку в зависимости от числа главных компонент."
   ]
  },
  {
   "cell_type": "code",
   "execution_count": 87,
   "metadata": {},
   "outputs": [],
   "source": [
    "dataDict = {'train':(X_train, y_train), 'test':(X_test, y_test)}\n",
    "components = [n for n in range(2, 16+1)]\n",
    "\n",
    "def computeErrorPCA(k):\n",
    "    error = {'train':[], 'test':[]}\n",
    "    \n",
    "    for n in components:\n",
    "        for key in dataDict:\n",
    "            X = dataDict[key][0]\n",
    "            y = dataDict[key][1]\n",
    "            \n",
    "            pca = PCA(n_components=n)\n",
    "            pca.fit(X)   \n",
    "            X_pca = pca.transform(X)\n",
    "            \n",
    "            knn = KNeighborsClassifier(n_neighbors = k)\n",
    "            knn.fit(X_pca, y)\n",
    "            y_predict = knn.predict(X_pca)\n",
    "            \n",
    "            error[key].append(np.mean(y != y_predict))\n",
    "    return error\n",
    "            \n",
    "error = computeErrorPCA(k_best)"
   ]
  },
  {
   "cell_type": "code",
   "execution_count": 88,
   "metadata": {},
   "outputs": [
    {
     "data": {
      "image/png": "[encoded data removed]",
      "text/plain": [
       "<Figure size 432x288 with 1 Axes>"
      ]
     },
     "metadata": {
      "needs_background": "light"
     },
     "output_type": "display_data"
    }
   ],
   "source": [
    "plt.plot(components, error['train'], '-ob', label=\"Train error\")\n",
    "plt.plot(components, error['test'], '-or', label=\"Test error\")\n",
    "plt.xlabel('n')\n",
    "plt.ylabel('error')\n",
    "plt.title('k=3')\n",
    "plt.legend()\n",
    "plt.show()"
   ]
  },
  {
   "cell_type": "markdown",
   "metadata": {},
   "source": [
    "Можно видеть, что на тренировочной выборке ошибка уменьшается, пока число компонент не достигает 6, а при числе компонент больше 10 увеличивается. В точке минимума ошибка немного меньше, чем была без использования PCA (т.е. при n=16).\n",
    "\n",
    "На тестовой же выборке ошибка постоянна. Возможно, дело в том, что число ближайших соседей = 3 представляет из себя на тестовой выборке особый удачный случай. Попробуем взять k=4."
   ]
  },
  {
   "cell_type": "code",
   "execution_count": 89,
   "metadata": {},
   "outputs": [
    {
     "data": {
      "image/png": "[encoded data removed]",
      "text/plain": [
       "<Figure size 432x288 with 1 Axes>"
      ]
     },
     "metadata": {
      "needs_background": "light"
     },
     "output_type": "display_data"
    }
   ],
   "source": [
    "error = computeErrorPCA(4)\n",
    "\n",
    "plt.plot(components, error['train'], '-ob', label=\"Train error\")\n",
    "plt.plot(components, error['test'], '-or', label=\"Test error\")\n",
    "plt.xlabel('n')\n",
    "plt.ylabel('error')\n",
    "plt.title('k=4')\n",
    "plt.legend()\n",
    "plt.show()"
   ]
  },
  {
   "cell_type": "markdown",
   "metadata": {},
   "source": [
    "Картина изменилась, теперь если на тренировочной выборке оптимальное число компонент 2, то на тестовой 3. При n>=5 ошибка на тестовой выборке достигает своего максимума 0.29."
   ]
  },
  {
   "cell_type": "markdown",
   "metadata": {},
   "source": [
    "Вывод: метод главных компонент позволил немного уменьшить ошибку на тренирововчной выборке при числе компонент от 6 до 9. На тестовой выборке ошибка осталась прежней."
   ]
  },
  {
   "cell_type": "markdown",
   "metadata": {},
   "source": [
    "Попробуем использовать MLP для решения задачи. Обучим сеть для нескольких конфигураций и посмотрим на ошибку."
   ]
  },
  {
   "cell_type": "code",
   "execution_count": 90,
   "metadata": {},
   "outputs": [],
   "source": [
    "from sklearn.neural_network import MLPClassifier"
   ]
  },
  {
   "cell_type": "code",
   "execution_count": 91,
   "metadata": {},
   "outputs": [
    {
     "data": {
      "text/plain": [
       "MLPClassifier(activation='logistic', alpha=0.0001, batch_size='auto',\n",
       "              beta_1=0.9, beta_2=0.999, early_stopping=False, epsilon=1e-08,\n",
       "              hidden_layer_sizes=(100, 100), learning_rate='constant',\n",
       "              learning_rate_init=0.001, max_iter=200, momentum=0.9,\n",
       "              n_iter_no_change=10, nesterovs_momentum=True, power_t=0.5,\n",
       "              random_state=42, shuffle=True, solver='lbfgs', tol=0.0001,\n",
       "              validation_fraction=0.1, verbose=False, warm_start=False)"
      ]
     },
     "execution_count": 91,
     "metadata": {},
     "output_type": "execute_result"
    }
   ],
   "source": [
    "mlp = MLPClassifier(hidden_layer_sizes = (100,100,), solver = 'lbfgs', activation = 'logistic', random_state = 42)\n",
    "mlp.fit(X_train, y_train)"
   ]
  },
  {
   "cell_type": "code",
   "execution_count": 92,
   "metadata": {},
   "outputs": [
    {
     "name": "stdout",
     "output_type": "stream",
     "text": [
      "0.24873737373737373\n"
     ]
    }
   ],
   "source": [
    "y_train_predict_mlp = mlp.predict(X_train)\n",
    "err_train_mlp = np.mean(y_train != y_train_predict_mlp)\n",
    "print(err_train_mlp)"
   ]
  },
  {
   "cell_type": "code",
   "execution_count": 93,
   "metadata": {},
   "outputs": [
    {
     "name": "stdout",
     "output_type": "stream",
     "text": [
      "0.21\n"
     ]
    }
   ],
   "source": [
    "y_test_predict_mlp = mlp.predict(X_test)\n",
    "err_test_mlp = np.mean(y_test != y_test_predict_mlp)\n",
    "print(err_test_mlp)"
   ]
  },
  {
   "cell_type": "code",
   "execution_count": 94,
   "metadata": {},
   "outputs": [
    {
     "data": {
      "text/plain": [
       "MLPClassifier(activation='logistic', alpha=0.0001, batch_size='auto',\n",
       "              beta_1=0.9, beta_2=0.999, early_stopping=False, epsilon=1e-08,\n",
       "              hidden_layer_sizes=(1,), learning_rate='constant',\n",
       "              learning_rate_init=0.001, max_iter=200, momentum=0.9,\n",
       "              n_iter_no_change=10, nesterovs_momentum=True, power_t=0.5,\n",
       "              random_state=42, shuffle=True, solver='lbfgs', tol=0.0001,\n",
       "              validation_fraction=0.1, verbose=False, warm_start=False)"
      ]
     },
     "execution_count": 94,
     "metadata": {},
     "output_type": "execute_result"
    }
   ],
   "source": [
    "mlp = MLPClassifier(hidden_layer_sizes = (1,), solver = 'lbfgs', activation = 'logistic', random_state = 42)\n",
    "mlp.fit(X_train, y_train)"
   ]
  },
  {
   "cell_type": "code",
   "execution_count": 95,
   "metadata": {},
   "outputs": [
    {
     "name": "stdout",
     "output_type": "stream",
     "text": [
      "0.17803030303030304\n"
     ]
    }
   ],
   "source": [
    "y_train_predict_mlp = mlp.predict(X_train)\n",
    "err_train_mlp = np.mean(y_train != y_train_predict_mlp)\n",
    "print(err_train_mlp)"
   ]
  },
  {
   "cell_type": "code",
   "execution_count": 96,
   "metadata": {},
   "outputs": [
    {
     "name": "stdout",
     "output_type": "stream",
     "text": [
      "0.16\n"
     ]
    }
   ],
   "source": [
    "y_test_predict_mlp = mlp.predict(X_test)\n",
    "err_test_mlp = np.mean(y_test != y_test_predict_mlp)\n",
    "print(err_test_mlp)"
   ]
  },
  {
   "cell_type": "markdown",
   "metadata": {},
   "source": [
    "Ошибка на тестовой выборке становится меньше в случае 1 нейрона на 1 скрытом слое (логистическая регрессия). Более того, для параметра alpha по умолчанию (1e-4) ошибка с увеличением числа нейронов возрастает. В дальнейшем параметр alpha будет увеличен до 1e-2 (увеличен штраф за большие веса)."
   ]
  },
  {
   "cell_type": "code",
   "execution_count": 97,
   "metadata": {},
   "outputs": [],
   "source": [
    "neurons = [1, 10, 30, 50, 80, 100, 150, 200, 250, 300, 350, 400]\n",
    "\n",
    "def computeErrorMLP(alpha = 1e-2):\n",
    "    error = {'train':[], 'test':[]}\n",
    "    \n",
    "    for n in neurons:\n",
    "        mlp = MLPClassifier(alpha=alpha, hidden_layer_sizes = (n,), solver = 'lbfgs', activation = 'logistic', random_state = 42)\n",
    "        mlp.fit(X_train, y_train)  \n",
    "        \n",
    "        y_train_predict_mlp = mlp.predict(X_train)\n",
    "        y_test_predict_mlp = mlp.predict(X_test)\n",
    "            \n",
    "        error['train'].append(np.mean(y_train != y_train_predict_mlp))\n",
    "        error['test'].append(np.mean(y_test != y_test_predict_mlp))\n",
    "        \n",
    "    return error"
   ]
  },
  {
   "cell_type": "code",
   "execution_count": 98,
   "metadata": {},
   "outputs": [
    {
     "name": "stdout",
     "output_type": "stream",
     "text": [
      "{'train': [0.1830808080808081, 0.1830808080808081, 0.17803030303030304, 0.1856060606060606, 0.1919191919191919, 0.20833333333333334, 0.19696969696969696, 0.20075757575757575, 0.21464646464646464, 0.20833333333333334, 0.20454545454545456, 0.20202020202020202], 'test': [0.18, 0.15, 0.19, 0.23, 0.22, 0.23, 0.22, 0.2, 0.22, 0.22, 0.2, 0.21]}\n"
     ]
    }
   ],
   "source": [
    "error = computeErrorMLP()\n",
    "print(error)"
   ]
  },
  {
   "cell_type": "code",
   "execution_count": 99,
   "metadata": {},
   "outputs": [
    {
     "data": {
      "image/png": "[encoded data removed]",
      "text/plain": [
       "<Figure size 432x288 with 1 Axes>"
      ]
     },
     "metadata": {
      "needs_background": "light"
     },
     "output_type": "display_data"
    }
   ],
   "source": [
    "plt.plot(neurons, error['train'], '-ob', label=\"Train error\")\n",
    "plt.plot(neurons, error['test'], '-or', label=\"Test error\")\n",
    "plt.xlabel('n')\n",
    "plt.ylabel('error')\n",
    "plt.legend()\n",
    "plt.show()"
   ]
  },
  {
   "cell_type": "markdown",
   "metadata": {},
   "source": [
    "Для сгенерированного классификатора с конкретными текущими параметрами (1 скрытый слой, alpha=1e-2, ...) ошибка минимальна в случае 10 нейронов на скрытом слое. Если параметры изменять (например, не фиксировать random_state), то результаты становятся другими. Судя по графику, число нейронов 10 является также вырожденным случаем для тестовой выборки, но для тренировочной он все же показывает вполне приемлемые результаты, поэтому в качестве числа нейронов в дальнейшем будем использовать n=10. При увеличении числа нейронов на 1 слое до 400 переобучения не наблюдается."
   ]
  },
  {
   "cell_type": "markdown",
   "metadata": {},
   "source": [
    "Изучим поведение ошибки в зависимости от параметра alpha для числа нейронов=10."
   ]
  },
  {
   "cell_type": "code",
   "execution_count": 100,
   "metadata": {},
   "outputs": [],
   "source": [
    "alpha = np.logspace(-3, 2, 21)\n",
    "\n",
    "def computeErrorMLP_Alpha():\n",
    "    error = {'train':[], 'test':[]}\n",
    "    \n",
    "    for a in alpha:\n",
    "        mlp = MLPClassifier(alpha=a, hidden_layer_sizes = (10,), solver = 'lbfgs', activation = 'logistic', random_state = 42)\n",
    "        mlp.fit(X_train, y_train)  \n",
    "        \n",
    "        y_train_predict_mlp = mlp.predict(X_train)\n",
    "        y_test_predict_mlp = mlp.predict(X_test)\n",
    "            \n",
    "        error['train'].append(np.mean(y_train != y_train_predict_mlp))\n",
    "        error['test'].append(np.mean(y_test != y_test_predict_mlp))\n",
    "        \n",
    "    return error\n",
    "\n"
   ]
  },
  {
   "cell_type": "code",
   "execution_count": 101,
   "metadata": {},
   "outputs": [
    {
     "name": "stdout",
     "output_type": "stream",
     "text": [
      "{'train': [0.17929292929292928, 0.1717171717171717, 0.1893939393939394, 0.21338383838383837, 0.1830808080808081, 0.18055555555555555, 0.1755050505050505, 0.18055555555555555, 0.18181818181818182, 0.20202020202020202, 0.19444444444444445, 0.19444444444444445, 0.1919191919191919, 0.1893939393939394, 0.2032828282828283, 0.38636363636363635, 0.38636363636363635, 0.38636363636363635, 0.38636363636363635, 0.38636363636363635, 0.38636363636363635], 'test': [0.14, 0.18, 0.24, 0.18, 0.15, 0.14, 0.16, 0.14, 0.14, 0.21, 0.23, 0.22, 0.22, 0.22, 0.22, 0.36, 0.36, 0.36, 0.36, 0.36, 0.36]}\n"
     ]
    }
   ],
   "source": [
    "error = computeErrorMLP_Alpha()\n",
    "print(error)"
   ]
  },
  {
   "cell_type": "code",
   "execution_count": 102,
   "metadata": {},
   "outputs": [
    {
     "data": {
      "image/png": "[encoded data removed]",
      "text/plain": [
       "<Figure size 432x288 with 1 Axes>"
      ]
     },
     "metadata": {
      "needs_background": "light"
     },
     "output_type": "display_data"
    }
   ],
   "source": [
    "plt.semilogx(alpha, error['train'], '-ob', label=\"Train error\")\n",
    "plt.semilogx(alpha, error['test'], '-or', label=\"Test error\")\n",
    "plt.xlabel('alpha')\n",
    "plt.ylabel('error')\n",
    "plt.legend()\n",
    "plt.show()"
   ]
  },
  {
   "cell_type": "markdown",
   "metadata": {},
   "source": [
    "При большом штрафе наблюдается недообучение. Возьмем alpha=1e-3, на котором достигается минимум ошибки для тестовой выборки и почти достигается минимум для ошибки на тренировочной выборке. "
   ]
  },
  {
   "cell_type": "code",
   "execution_count": 103,
   "metadata": {},
   "outputs": [
    {
     "name": "stdout",
     "output_type": "stream",
     "text": [
      "0.17929292929292928\n",
      "0.14\n"
     ]
    }
   ],
   "source": [
    "mlp = MLPClassifier(alpha = 1e-3, hidden_layer_sizes = (10,), solver = 'lbfgs', activation = 'logistic', random_state = 42)\n",
    "mlp.fit(X_train, y_train)\n",
    "\n",
    "y_train_predict_mlp = mlp.predict(X_train)\n",
    "err_train_mlp = np.mean(y_train != y_train_predict_mlp)\n",
    "print(err_train_mlp)\n",
    "\n",
    "y_test_predict_mlp = mlp.predict(X_test)\n",
    "err_test_mlp = np.mean(y_test != y_test_predict_mlp)\n",
    "print(err_test_mlp)"
   ]
  },
  {
   "cell_type": "markdown",
   "metadata": {},
   "source": [
    "Вывод: с помощью нейронных сетей удалось уменьшить ошибку на тестовой и тренировочной выборках вместе относительно предыдущих оптимальных значений."
   ]
  },
  {
   "cell_type": "markdown",
   "metadata": {},
   "source": [
    "Воспользуемся методом Random Forest. Возьмем для начала число деревьев 100."
   ]
  },
  {
   "cell_type": "code",
   "execution_count": 104,
   "metadata": {},
   "outputs": [],
   "source": [
    "from sklearn.ensemble import RandomForestClassifier"
   ]
  },
  {
   "cell_type": "code",
   "execution_count": 105,
   "metadata": {},
   "outputs": [
    {
     "name": "stdout",
     "output_type": "stream",
     "text": [
      "0.18560606060606055\n"
     ]
    }
   ],
   "source": [
    "rf = RandomForestClassifier(n_estimators = 100, oob_score=True)\n",
    "rf.fit(X_train, y_train)\n",
    "print(1 - rf.oob_score_)"
   ]
  },
  {
   "cell_type": "code",
   "execution_count": 106,
   "metadata": {},
   "outputs": [
    {
     "name": "stdout",
     "output_type": "stream",
     "text": [
      "0.0\n"
     ]
    }
   ],
   "source": [
    "y_train_predict_rf = rf.predict(X_train)\n",
    "err_train_rf = np.mean(y_train != y_train_predict_rf)\n",
    "print(err_train_rf)"
   ]
  },
  {
   "cell_type": "code",
   "execution_count": 107,
   "metadata": {},
   "outputs": [
    {
     "name": "stdout",
     "output_type": "stream",
     "text": [
      "0.17\n"
     ]
    }
   ],
   "source": [
    "y_test_predict_rf = rf.predict(X_test)\n",
    "err_test_rf = np.mean(y_test != y_test_predict_rf)\n",
    "print(err_test_rf)"
   ]
  },
  {
   "cell_type": "markdown",
   "metadata": {},
   "source": [
    "Видно, что на тренировочной выборке ошибка равна нулю, и, возможно, имело бы место переобучение, если бы на тестовой выборке ошибка была бы большая. Однако на тестовой выборке ошибка для данной задачи небольшая - 0.17."
   ]
  },
  {
   "cell_type": "markdown",
   "metadata": {},
   "source": [
    "Исследуем ошибку в зависимости от числа деревьев в лесе."
   ]
  },
  {
   "cell_type": "code",
   "execution_count": 108,
   "metadata": {},
   "outputs": [],
   "source": [
    "n_trees_ = np.arange(10, 1511, 100)\n",
    "\n",
    "def computeErrorRF(n_trees):\n",
    "    error = {'train':[], 'test':[], 'oob':[]}\n",
    "    \n",
    "    for n in n_trees:\n",
    "        rf = RandomForestClassifier(n_estimators = n, oob_score=True)\n",
    "        rf.fit(X_train, y_train)\n",
    "        \n",
    "        y_train_predict_rf = rf.predict(X_train)\n",
    "        y_test_predict_rf = rf.predict(X_test)\n",
    "            \n",
    "        error['train'].append(np.mean(y_train != y_train_predict_rf))\n",
    "        error['test'].append(np.mean(y_test != y_test_predict_rf))\n",
    "        error['oob'].append(1 - rf.oob_score_)\n",
    "        \n",
    "    return error"
   ]
  },
  {
   "cell_type": "code",
   "execution_count": 109,
   "metadata": {},
   "outputs": [
    {
     "name": "stderr",
     "output_type": "stream",
     "text": [
      "c:\\python\\python3\\python3.7.2\\lib\\site-packages\\sklearn\\ensemble\\forest.py:460: UserWarning: Some inputs do not have OOB scores. This probably means too few trees were used to compute any reliable oob estimates.\n",
      "  warn(\"Some inputs do not have OOB scores. \"\n",
      "c:\\python\\python3\\python3.7.2\\lib\\site-packages\\sklearn\\ensemble\\forest.py:465: RuntimeWarning: invalid value encountered in true_divide\n",
      "  predictions[k].sum(axis=1)[:, np.newaxis])\n"
     ]
    },
    {
     "name": "stdout",
     "output_type": "stream",
     "text": [
      "{'train': [0.016414141414141416, 0.0, 0.0, 0.0, 0.0, 0.0, 0.0, 0.0, 0.0, 0.0, 0.0, 0.0, 0.0, 0.0, 0.0, 0.0], 'test': [0.2, 0.17, 0.17, 0.17, 0.17, 0.18, 0.17, 0.17, 0.17, 0.17, 0.17, 0.16, 0.17, 0.16, 0.17, 0.17], 'oob': [0.2247474747474747, 0.172979797979798, 0.18813131313131315, 0.18181818181818177, 0.1717171717171717, 0.16792929292929293, 0.172979797979798, 0.16792929292929293, 0.1717171717171717, 0.17803030303030298, 0.1742424242424242, 0.1755050505050505, 0.1717171717171717, 0.172979797979798, 0.17929292929292928, 0.17929292929292928]}\n"
     ]
    }
   ],
   "source": [
    "error = computeErrorRF(n_trees_)\n",
    "print(error)"
   ]
  },
  {
   "cell_type": "code",
   "execution_count": 110,
   "metadata": {},
   "outputs": [],
   "source": [
    "def plotError(x, error):\n",
    "    plt.plot(x, error['train'], '-ob', label=\"Train error\")\n",
    "    plt.plot(x, error['test'], '-or', label=\"Test error\")\n",
    "    plt.plot(x, error['oob'], '-og', label=\"OOB error\")\n",
    "    plt.xlabel('n')\n",
    "    plt.ylabel('error')\n",
    "    plt.legend()\n",
    "    plt.show() "
   ]
  },
  {
   "cell_type": "code",
   "execution_count": 111,
   "metadata": {},
   "outputs": [
    {
     "data": {
      "image/png": "[encoded data removed]",
      "text/plain": [
       "<Figure size 432x288 with 1 Axes>"
      ]
     },
     "metadata": {
      "needs_background": "light"
     },
     "output_type": "display_data"
    }
   ],
   "source": [
    "plotError(n_trees_, error)"
   ]
  },
  {
   "cell_type": "markdown",
   "metadata": {},
   "source": [
    "Видно, что в то время как ошибка на тренировочной выборке 0, то на тестовой выборке она не опускается ниже 0.15. При этом OOB ошибка имеет вид, похожий на ошибку на тестовой выборке, т.е. если бы не было тестовой выборки, то можно было бы воспользоваться OOB ошибкой как оценкой корректности работы классификатора."
   ]
  },
  {
   "cell_type": "markdown",
   "metadata": {},
   "source": [
    "Было попробовано также небольшое число деревьев."
   ]
  },
  {
   "cell_type": "code",
   "execution_count": 112,
   "metadata": {},
   "outputs": [
    {
     "data": {
      "image/png": "[encoded data removed]",
      "text/plain": [
       "<Figure size 432x288 with 1 Axes>"
      ]
     },
     "metadata": {
      "needs_background": "light"
     },
     "output_type": "display_data"
    }
   ],
   "source": [
    "n_trees__ = np.arange(20, 50, 2)\n",
    "error = computeErrorRF(n_trees = n_trees__)\n",
    "plotError(n_trees__, error)"
   ]
  },
  {
   "cell_type": "markdown",
   "metadata": {},
   "source": [
    "Теперь воспользуемся методом Gradient Boosting."
   ]
  },
  {
   "cell_type": "code",
   "execution_count": 113,
   "metadata": {},
   "outputs": [],
   "source": [
    "from sklearn.ensemble import GradientBoostingClassifier"
   ]
  },
  {
   "cell_type": "code",
   "execution_count": 114,
   "metadata": {},
   "outputs": [
    {
     "name": "stdout",
     "output_type": "stream",
     "text": [
      "0.2973946204562653\n"
     ]
    }
   ],
   "source": [
    "gb = GradientBoostingClassifier(n_estimators = 100, subsample = 0.7)\n",
    "gb.fit(X_train, y_train)\n",
    "print(np.sum(gb.oob_improvement_))"
   ]
  },
  {
   "cell_type": "code",
   "execution_count": 115,
   "metadata": {},
   "outputs": [
    {
     "name": "stdout",
     "output_type": "stream",
     "text": [
      "0.08333333333333333\n"
     ]
    }
   ],
   "source": [
    "y_train_predict_gb = gb.predict(X_train)\n",
    "err_train_gb = np.mean(y_train != y_train_predict_gb)\n",
    "print(err_train_gb)"
   ]
  },
  {
   "cell_type": "code",
   "execution_count": 116,
   "metadata": {},
   "outputs": [
    {
     "name": "stdout",
     "output_type": "stream",
     "text": [
      "0.14\n"
     ]
    }
   ],
   "source": [
    "y_test_predict_gb = gb.predict(X_test)\n",
    "err_test_gb = np.mean(y_test != y_test_predict_gb)\n",
    "print(err_test_gb)"
   ]
  },
  {
   "cell_type": "markdown",
   "metadata": {},
   "source": [
    "Уже на параметрах по умолчанию ошибка на тестовой выборке меньше, чем для Random Forest. Исследуем зависимость ошибки от числа деревьев."
   ]
  },
  {
   "cell_type": "code",
   "execution_count": 117,
   "metadata": {},
   "outputs": [],
   "source": [
    "n_trees_ = np.arange(10, 1510, 50)\n",
    "\n",
    "def computeErrorGB(n_trees):\n",
    "    error = {'train':[], 'test':[], 'oob':[]}\n",
    "    \n",
    "    for n in n_trees:\n",
    "        gb = GradientBoostingClassifier(n_estimators = 100, subsample = 0.7)\n",
    "        gb.fit(X_train, y_train)\n",
    "        \n",
    "        y_train_predict_gb = gb.predict(X_train)\n",
    "        y_test_predict_gb = gb.predict(X_test)\n",
    "            \n",
    "        error['train'].append(np.mean(y_train != y_train_predict_gb))\n",
    "        error['test'].append(np.mean(y_test != y_test_predict_gb))\n",
    "        error['oob'].append(np.sum(gb.oob_improvement_))\n",
    "        \n",
    "    return error"
   ]
  },
  {
   "cell_type": "code",
   "execution_count": 118,
   "metadata": {},
   "outputs": [
    {
     "name": "stdout",
     "output_type": "stream",
     "text": [
      "{'train': [0.08964646464646464, 0.09090909090909091, 0.08080808080808081, 0.0845959595959596, 0.08080808080808081, 0.08838383838383838, 0.08207070707070707, 0.08585858585858586, 0.08080808080808081, 0.08333333333333333, 0.08333333333333333, 0.08838383838383838, 0.08838383838383838, 0.08838383838383838, 0.08838383838383838, 0.09217171717171717, 0.08964646464646464, 0.08333333333333333, 0.08964646464646464, 0.09217171717171717, 0.08080808080808081, 0.09090909090909091, 0.08333333333333333, 0.08333333333333333, 0.08712121212121213, 0.08712121212121213, 0.08964646464646464, 0.08207070707070707, 0.08838383838383838, 0.0845959595959596], 'test': [0.14, 0.16, 0.16, 0.15, 0.16, 0.15, 0.15, 0.15, 0.17, 0.15, 0.14, 0.15, 0.13, 0.15, 0.16, 0.17, 0.14, 0.15, 0.15, 0.17, 0.15, 0.15, 0.15, 0.15, 0.14, 0.13, 0.15, 0.14, 0.12, 0.17], 'oob': [0.2855365189615076, 0.277038456694865, 0.25373162766404933, 0.3024616234156689, 0.30290877099138197, 0.26425071161418917, 0.2622982911856328, 0.2742600280962859, 0.24975534509417746, 0.27733645969828424, 0.2803224489691725, 0.29506146454375964, 0.301899146287108, 0.2876251157724057, 0.23581141291792213, 0.2864148221242258, 0.2771148722207595, 0.3025038377220316, 0.2514757981089165, 0.2769735425189772, 0.26901958118544966, 0.3040342788105976, 0.2628444331722311, 0.31749775398761887, 0.2602532967221667, 0.24344032484042832, 0.2630693071058484, 0.2936146040098669, 0.25756305538239116, 0.2834093748769869]}\n"
     ]
    }
   ],
   "source": [
    "error = computeErrorGB(n_trees_)\n",
    "print(error)"
   ]
  },
  {
   "cell_type": "code",
   "execution_count": 119,
   "metadata": {},
   "outputs": [
    {
     "data": {
      "image/png": "[encoded data removed]",
      "text/plain": [
       "<Figure size 432x288 with 1 Axes>"
      ]
     },
     "metadata": {
      "needs_background": "light"
     },
     "output_type": "display_data"
    }
   ],
   "source": [
    "plotError(n_trees_, error)"
   ]
  },
  {
   "cell_type": "markdown",
   "metadata": {},
   "source": [
    "В целом, ошибка на тестовой выборке для Gradient Boosting меньше, чем для Random Forest. Возьмем число деревьев 610 - минимум ошибки на тестовой выборке."
   ]
  },
  {
   "cell_type": "code",
   "execution_count": 122,
   "metadata": {},
   "outputs": [
    {
     "name": "stdout",
     "output_type": "stream",
     "text": [
      "0.39705049109524937\n",
      "0.10606060606060606\n",
      "0.13\n"
     ]
    }
   ],
   "source": [
    "gb = GradientBoostingClassifier(n_estimators = 60, subsample = 0.7)\n",
    "gb.fit(X_train, y_train)\n",
    "print(np.sum(gb.oob_improvement_))\n",
    "\n",
    "y_train_predict_gb = gb.predict(X_train)\n",
    "err_train_gb = np.mean(y_train != y_train_predict_gb)\n",
    "print(err_train_gb)\n",
    "\n",
    "y_test_predict_gb = gb.predict(X_test)\n",
    "err_test_gb = np.mean(y_test != y_test_predict_gb)\n",
    "print(err_test_gb)"
   ]
  },
  {
   "cell_type": "markdown",
   "metadata": {},
   "source": [
    "Видно, что для последнего классификатора ошибка на тестовой и тренировочной выборке получилась наименьшей."
   ]
  },
  {
   "cell_type": "markdown",
   "metadata": {},
   "source": [
    "ВЫВОД: наилучшим классификатором для данной задачи оказался Gradient Boosting, поскольку для него удалось подобрать параметры так, что ошибка на тестовой выборке стала наименьшей (0.13). С другой стороны, большинство классификаторов были близки к этому значению (0.15 в среднем). Сильно меньше ошибку для данной задачи вряд ли удастся получить. "
   ]
  },
  {
   "cell_type": "code",
   "execution_count": null,
   "metadata": {},
   "outputs": [],
   "source": []
  }
 ],
 "metadata": {
  "kernelspec": {
   "display_name": "Python 3",
   "language": "python",
   "name": "python3"
  },
  "language_info": {
   "codemirror_mode": {
    "name": "ipython",
    "version": 3
   },
   "file_extension": ".py",
   "mimetype": "text/x-python",
   "name": "python",
   "nbconvert_exporter": "python",
   "pygments_lexer": "ipython3",
   "version": "3.7.2"
  }
 },
 "nbformat": 4,
 "nbformat_minor": 2
}
